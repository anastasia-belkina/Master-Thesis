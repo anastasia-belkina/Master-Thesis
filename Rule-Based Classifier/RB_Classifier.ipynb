{
  "cells": [
    {
      "cell_type": "markdown",
      "metadata": {
        "id": "view-in-github",
        "colab_type": "text"
      },
      "source": [
        "<a href=\"https://colab.research.google.com/github/anastasia-belkina/Master-Thesis/blob/main/Rule-Based%20Classifier/Classifier.ipynb\" target=\"_parent\"><img src=\"https://colab.research.google.com/assets/colab-badge.svg\" alt=\"Open In Colab\"/></a>"
      ]
    },
    {
      "cell_type": "code",
      "source": [
        "# Install necessary packages\n",
        "!pip install nltk stanza afinn scikit-learn pandas numpy matplotlib seaborn\n",
        "\n",
        "import stanza\n",
        "stanza.download('en')\n",
        "\n",
        "# Download necessary NLTK data\n",
        "import nltk\n",
        "nltk.download('wordnet')\n",
        "nltk.download('averaged_perceptron_tagger')\n",
        "nltk.download('sentiwordnet')\n",
        "nltk.download('punkt')\n",
        "nltk.download('opinion_lexicon')\n",
        "nltk.download('punkt_tab')\n",
        "nltk.download('averaged_perceptron_tagger_eng')\n",
        "\n",
        "\n",
        "# Import libraries after installation\n",
        "from afinn import Afinn\n",
        "from sklearn.model_selection import cross_val_score\n",
        "from sklearn.metrics import classification_report, confusion_matrix\n",
        "from sklearn.feature_extraction.text import CountVectorizer\n",
        "import pandas as pd\n",
        "import numpy as np\n",
        "import matplotlib.pyplot as plt\n",
        "import seaborn as sns"
      ],
      "metadata": {
        "id": "zhV0WJpeHCqx",
        "colab": {
          "base_uri": "https://localhost:8080/",
          "height": 1000,
          "referenced_widgets": [
            "6277439da95542f7ac45cbbfe13c9f05",
            "69129c2bfc7c44f08e0ae399039d35c8",
            "6542deacbc714fff8bd9a9f674ee9d5d",
            "a5ed25dea93a45ffb5a4c34c88e931b1",
            "a005c652ca9e464ebe201831d11aee9d",
            "6632d82a13a64aa39582f0cf652aacee",
            "78dca5cbba894282b7d830a6efeccf05",
            "aa8cd680579346e5b573526357163bf9",
            "2ab4c43d2c7e45e088c116efc31469a2",
            "fb2fc465b1c24d509704578f97164d9e",
            "2151a2c543a54f85b73bb00979f718f2",
            "9c114aa38e9d4de3a7c03645305d536a",
            "6130e83aa7cf4687b0fb283128929699",
            "42db9659e7fb41c2abb0f0d3f500e383",
            "584a546d09f141ed9e5df5bd36a8518e",
            "5a013a20b7954818adf74773e36b4f3e",
            "6ee5dd2c0b5f4594ad7f618e487832cd",
            "13d50158a849412b9e3891409eb9fa2d",
            "1eddfe1a661e459cb3fc967c02947086",
            "acf372ee2de042c9b00065a8a845e1c2",
            "3372e5f5ae9740b184faeb9482de1629",
            "016bda5aa9014d63b88f714fe1f98ad6"
          ]
        },
        "outputId": "c8a7ae89-c28d-448c-d79c-2d1bb655887a"
      },
      "id": "zhV0WJpeHCqx",
      "execution_count": null,
      "outputs": [
        {
          "output_type": "stream",
          "name": "stdout",
          "text": [
            "Requirement already satisfied: nltk in /usr/local/lib/python3.10/dist-packages (3.8.1)\n",
            "Collecting stanza\n",
            "  Downloading stanza-1.8.2-py3-none-any.whl.metadata (13 kB)\n",
            "Collecting afinn\n",
            "  Downloading afinn-0.1.tar.gz (52 kB)\n",
            "\u001b[2K     \u001b[90m━━━━━━━━━━━━━━━━━━━━━━━━━━━━━━━━━━━━━━━━\u001b[0m \u001b[32m52.6/52.6 kB\u001b[0m \u001b[31m868.7 kB/s\u001b[0m eta \u001b[36m0:00:00\u001b[0m\n",
            "\u001b[?25h  Preparing metadata (setup.py) ... \u001b[?25l\u001b[?25hdone\n",
            "Requirement already satisfied: scikit-learn in /usr/local/lib/python3.10/dist-packages (1.3.2)\n",
            "Requirement already satisfied: pandas in /usr/local/lib/python3.10/dist-packages (2.1.4)\n",
            "Requirement already satisfied: numpy in /usr/local/lib/python3.10/dist-packages (1.26.4)\n",
            "Requirement already satisfied: matplotlib in /usr/local/lib/python3.10/dist-packages (3.7.1)\n",
            "Requirement already satisfied: seaborn in /usr/local/lib/python3.10/dist-packages (0.13.1)\n",
            "Requirement already satisfied: click in /usr/local/lib/python3.10/dist-packages (from nltk) (8.1.7)\n",
            "Requirement already satisfied: joblib in /usr/local/lib/python3.10/dist-packages (from nltk) (1.4.2)\n",
            "Requirement already satisfied: regex>=2021.8.3 in /usr/local/lib/python3.10/dist-packages (from nltk) (2024.5.15)\n",
            "Requirement already satisfied: tqdm in /usr/local/lib/python3.10/dist-packages (from nltk) (4.66.5)\n",
            "Collecting emoji (from stanza)\n",
            "  Downloading emoji-2.12.1-py3-none-any.whl.metadata (5.4 kB)\n",
            "Requirement already satisfied: protobuf>=3.15.0 in /usr/local/lib/python3.10/dist-packages (from stanza) (3.20.3)\n",
            "Requirement already satisfied: requests in /usr/local/lib/python3.10/dist-packages (from stanza) (2.32.3)\n",
            "Requirement already satisfied: networkx in /usr/local/lib/python3.10/dist-packages (from stanza) (3.3)\n",
            "Requirement already satisfied: toml in /usr/local/lib/python3.10/dist-packages (from stanza) (0.10.2)\n",
            "Requirement already satisfied: torch>=1.3.0 in /usr/local/lib/python3.10/dist-packages (from stanza) (2.4.0+cu121)\n",
            "Requirement already satisfied: scipy>=1.5.0 in /usr/local/lib/python3.10/dist-packages (from scikit-learn) (1.13.1)\n",
            "Requirement already satisfied: threadpoolctl>=2.0.0 in /usr/local/lib/python3.10/dist-packages (from scikit-learn) (3.5.0)\n",
            "Requirement already satisfied: python-dateutil>=2.8.2 in /usr/local/lib/python3.10/dist-packages (from pandas) (2.8.2)\n",
            "Requirement already satisfied: pytz>=2020.1 in /usr/local/lib/python3.10/dist-packages (from pandas) (2024.1)\n",
            "Requirement already satisfied: tzdata>=2022.1 in /usr/local/lib/python3.10/dist-packages (from pandas) (2024.1)\n",
            "Requirement already satisfied: contourpy>=1.0.1 in /usr/local/lib/python3.10/dist-packages (from matplotlib) (1.2.1)\n",
            "Requirement already satisfied: cycler>=0.10 in /usr/local/lib/python3.10/dist-packages (from matplotlib) (0.12.1)\n",
            "Requirement already satisfied: fonttools>=4.22.0 in /usr/local/lib/python3.10/dist-packages (from matplotlib) (4.53.1)\n",
            "Requirement already satisfied: kiwisolver>=1.0.1 in /usr/local/lib/python3.10/dist-packages (from matplotlib) (1.4.5)\n",
            "Requirement already satisfied: packaging>=20.0 in /usr/local/lib/python3.10/dist-packages (from matplotlib) (24.1)\n",
            "Requirement already satisfied: pillow>=6.2.0 in /usr/local/lib/python3.10/dist-packages (from matplotlib) (9.4.0)\n",
            "Requirement already satisfied: pyparsing>=2.3.1 in /usr/local/lib/python3.10/dist-packages (from matplotlib) (3.1.2)\n",
            "Requirement already satisfied: six>=1.5 in /usr/local/lib/python3.10/dist-packages (from python-dateutil>=2.8.2->pandas) (1.16.0)\n",
            "Requirement already satisfied: filelock in /usr/local/lib/python3.10/dist-packages (from torch>=1.3.0->stanza) (3.15.4)\n",
            "Requirement already satisfied: typing-extensions>=4.8.0 in /usr/local/lib/python3.10/dist-packages (from torch>=1.3.0->stanza) (4.12.2)\n",
            "Requirement already satisfied: sympy in /usr/local/lib/python3.10/dist-packages (from torch>=1.3.0->stanza) (1.13.2)\n",
            "Requirement already satisfied: jinja2 in /usr/local/lib/python3.10/dist-packages (from torch>=1.3.0->stanza) (3.1.4)\n",
            "Requirement already satisfied: fsspec in /usr/local/lib/python3.10/dist-packages (from torch>=1.3.0->stanza) (2024.6.1)\n",
            "Requirement already satisfied: charset-normalizer<4,>=2 in /usr/local/lib/python3.10/dist-packages (from requests->stanza) (3.3.2)\n",
            "Requirement already satisfied: idna<4,>=2.5 in /usr/local/lib/python3.10/dist-packages (from requests->stanza) (3.7)\n",
            "Requirement already satisfied: urllib3<3,>=1.21.1 in /usr/local/lib/python3.10/dist-packages (from requests->stanza) (2.0.7)\n",
            "Requirement already satisfied: certifi>=2017.4.17 in /usr/local/lib/python3.10/dist-packages (from requests->stanza) (2024.7.4)\n",
            "Requirement already satisfied: MarkupSafe>=2.0 in /usr/local/lib/python3.10/dist-packages (from jinja2->torch>=1.3.0->stanza) (2.1.5)\n",
            "Requirement already satisfied: mpmath<1.4,>=1.1.0 in /usr/local/lib/python3.10/dist-packages (from sympy->torch>=1.3.0->stanza) (1.3.0)\n",
            "Downloading stanza-1.8.2-py3-none-any.whl (990 kB)\n",
            "\u001b[2K   \u001b[90m━━━━━━━━━━━━━━━━━━━━━━━━━━━━━━━━━━━━━━━━\u001b[0m \u001b[32m990.1/990.1 kB\u001b[0m \u001b[31m6.9 MB/s\u001b[0m eta \u001b[36m0:00:00\u001b[0m\n",
            "\u001b[?25hDownloading emoji-2.12.1-py3-none-any.whl (431 kB)\n",
            "\u001b[2K   \u001b[90m━━━━━━━━━━━━━━━━━━━━━━━━━━━━━━━━━━━━━━━━\u001b[0m \u001b[32m431.4/431.4 kB\u001b[0m \u001b[31m22.5 MB/s\u001b[0m eta \u001b[36m0:00:00\u001b[0m\n",
            "\u001b[?25hBuilding wheels for collected packages: afinn\n",
            "  Building wheel for afinn (setup.py) ... \u001b[?25l\u001b[?25hdone\n",
            "  Created wheel for afinn: filename=afinn-0.1-py3-none-any.whl size=53430 sha256=bc83920aed9e5277f01dee6a390af38dcc92f41fb066b20d79fa577b561f8306\n",
            "  Stored in directory: /root/.cache/pip/wheels/b0/05/90/43f79196199a138fb486902fceca30a2d1b5228e6d2db8eb90\n",
            "Successfully built afinn\n",
            "Installing collected packages: afinn, emoji, stanza\n",
            "Successfully installed afinn-0.1 emoji-2.12.1 stanza-1.8.2\n"
          ]
        },
        {
          "output_type": "display_data",
          "data": {
            "text/plain": [
              "Downloading https://raw.githubusercontent.com/stanfordnlp/stanza-resources/main/resources_1.8.0.json:   0%|   …"
            ],
            "application/vnd.jupyter.widget-view+json": {
              "version_major": 2,
              "version_minor": 0,
              "model_id": "6277439da95542f7ac45cbbfe13c9f05"
            }
          },
          "metadata": {}
        },
        {
          "output_type": "stream",
          "name": "stderr",
          "text": [
            "INFO:stanza:Downloaded file to /root/stanza_resources/resources.json\n",
            "INFO:stanza:Downloading default packages for language: en (English) ...\n"
          ]
        },
        {
          "output_type": "display_data",
          "data": {
            "text/plain": [
              "Downloading https://huggingface.co/stanfordnlp/stanza-en/resolve/v1.8.0/models/default.zip:   0%|          | 0…"
            ],
            "application/vnd.jupyter.widget-view+json": {
              "version_major": 2,
              "version_minor": 0,
              "model_id": "9c114aa38e9d4de3a7c03645305d536a"
            }
          },
          "metadata": {}
        },
        {
          "output_type": "stream",
          "name": "stderr",
          "text": [
            "INFO:stanza:Downloaded file to /root/stanza_resources/en/default.zip\n",
            "INFO:stanza:Finished downloading models and saved to /root/stanza_resources\n",
            "[nltk_data] Downloading package wordnet to /root/nltk_data...\n",
            "[nltk_data] Downloading package averaged_perceptron_tagger to\n",
            "[nltk_data]     /root/nltk_data...\n",
            "[nltk_data]   Unzipping taggers/averaged_perceptron_tagger.zip.\n",
            "[nltk_data] Downloading package sentiwordnet to /root/nltk_data...\n",
            "[nltk_data]   Unzipping corpora/sentiwordnet.zip.\n",
            "[nltk_data] Downloading package punkt to /root/nltk_data...\n",
            "[nltk_data]   Unzipping tokenizers/punkt.zip.\n",
            "[nltk_data] Downloading package opinion_lexicon to /root/nltk_data...\n",
            "[nltk_data]   Unzipping corpora/opinion_lexicon.zip.\n",
            "[nltk_data] Downloading package punkt_tab to /root/nltk_data...\n",
            "[nltk_data]   Unzipping tokenizers/punkt_tab.zip.\n",
            "[nltk_data] Downloading package averaged_perceptron_tagger_eng to\n",
            "[nltk_data]     /root/nltk_data...\n",
            "[nltk_data]   Unzipping taggers/averaged_perceptron_tagger_eng.zip.\n"
          ]
        }
      ]
    },
    {
      "cell_type": "markdown",
      "id": "6aa51dcb-9bd7-4adc-af2d-90655ed7b59d",
      "metadata": {
        "id": "6aa51dcb-9bd7-4adc-af2d-90655ed7b59d"
      },
      "source": [
        "# Import libraries"
      ]
    },
    {
      "cell_type": "code",
      "execution_count": null,
      "id": "ad73ef0b-5bb9-49b6-8491-81669a22974c",
      "metadata": {
        "id": "ad73ef0b-5bb9-49b6-8491-81669a22974c"
      },
      "outputs": [],
      "source": [
        "import nltk\n",
        "import stanza\n",
        "from afinn import Afinn\n",
        "from sklearn.model_selection import cross_val_score\n",
        "from sklearn.metrics import classification_report, confusion_matrix\n",
        "from sklearn.feature_extraction.text import CountVectorizer\n",
        "import pandas as pd\n",
        "import numpy as np\n",
        "import matplotlib.pyplot as plt\n",
        "import seaborn as sns"
      ]
    },
    {
      "cell_type": "markdown",
      "id": "5b4b9a5d-f5f1-4b41-89b1-ef0f7ec9269b",
      "metadata": {
        "id": "5b4b9a5d-f5f1-4b41-89b1-ef0f7ec9269b"
      },
      "source": [
        "# Examples of NLTK libraries"
      ]
    },
    {
      "cell_type": "markdown",
      "id": "4b3c7715-37fc-438c-adcd-6e35a645887b",
      "metadata": {
        "id": "4b3c7715-37fc-438c-adcd-6e35a645887b"
      },
      "source": [
        "## Synonyms"
      ]
    },
    {
      "cell_type": "code",
      "execution_count": null,
      "id": "634b2faf-13e3-44da-b6d4-46daf8b3d52a",
      "metadata": {
        "id": "634b2faf-13e3-44da-b6d4-46daf8b3d52a",
        "outputId": "fa46405e-0fdf-4760-b6d1-eb1698c067b7",
        "colab": {
          "base_uri": "https://localhost:8080/"
        }
      },
      "outputs": [
        {
          "output_type": "stream",
          "name": "stdout",
          "text": [
            "[Synset('incrimination.n.01'), Synset('blame.n.02'), Synset('blame.v.01'), Synset('blame.v.02'), Synset('blame.v.03'), Synset('blasted.s.01')]\n"
          ]
        }
      ],
      "source": [
        "from nltk.corpus import wordnet\n",
        "\n",
        "# Example: Finding synonyms for a word\n",
        "synonyms = wordnet.synsets('blame')\n",
        "print(synonyms)"
      ]
    },
    {
      "cell_type": "markdown",
      "id": "44616a38-2c4e-4e33-8c9c-a8367fd76af0",
      "metadata": {
        "id": "44616a38-2c4e-4e33-8c9c-a8367fd76af0"
      },
      "source": [
        "## Tokenization and POS"
      ]
    },
    {
      "cell_type": "code",
      "execution_count": null,
      "id": "c8786510-44d7-4715-94e6-f2a0c3b9078e",
      "metadata": {
        "id": "c8786510-44d7-4715-94e6-f2a0c3b9078e",
        "outputId": "a96d064f-1c1a-46ba-a80e-7c6eaa8fc97c",
        "colab": {
          "base_uri": "https://localhost:8080/"
        }
      },
      "outputs": [
        {
          "output_type": "stream",
          "name": "stdout",
          "text": [
            "[('He', 'PRP'), ('is', 'VBZ'), ('responsible', 'JJ'), ('for', 'IN'), ('the', 'DT'), ('failure', 'NN'), ('.', '.')]\n"
          ]
        }
      ],
      "source": [
        "from nltk import pos_tag, word_tokenize\n",
        "\n",
        "# Example: POS tagging a sentence\n",
        "sentence = \"He is responsible for the failure.\"\n",
        "tokens = word_tokenize(sentence)\n",
        "pos_tags = pos_tag(tokens)\n",
        "print(pos_tags)"
      ]
    },
    {
      "cell_type": "markdown",
      "id": "c8bdc200-36f4-4e01-9dee-abe66385ddbc",
      "metadata": {
        "id": "c8bdc200-36f4-4e01-9dee-abe66385ddbc"
      },
      "source": [
        "## Sentiment Analysis"
      ]
    },
    {
      "cell_type": "code",
      "execution_count": null,
      "id": "679b42e0-84f6-4a57-81db-1d38d2466a6a",
      "metadata": {
        "id": "679b42e0-84f6-4a57-81db-1d38d2466a6a",
        "outputId": "b9d87d0c-28ab-41a2-925d-51766f4b0af9",
        "colab": {
          "base_uri": "https://localhost:8080/"
        }
      },
      "outputs": [
        {
          "output_type": "stream",
          "name": "stdout",
          "text": [
            "Positive: 0.0, Negative: 0.5, Objective: 0.5\n"
          ]
        }
      ],
      "source": [
        "from nltk.corpus import sentiwordnet as swn\n",
        "\n",
        "# Example: Getting sentiment scores for a word\n",
        "word = list(swn.senti_synsets('blame'))[0]\n",
        "print(f\"Positive: {word.pos_score()}, Negative: {word.neg_score()}, Objective: {word.obj_score()}\")\n"
      ]
    },
    {
      "cell_type": "markdown",
      "id": "f7790052-ef05-469d-847d-c138b8b8d913",
      "metadata": {
        "id": "f7790052-ef05-469d-847d-c138b8b8d913"
      },
      "source": [
        "## Tokenizer"
      ]
    },
    {
      "cell_type": "code",
      "execution_count": null,
      "id": "411920ea-b43c-467d-9d1a-05a30506fbb9",
      "metadata": {
        "id": "411920ea-b43c-467d-9d1a-05a30506fbb9",
        "outputId": "b025cad7-1f03-4807-a2a6-bdb1be5f3221",
        "colab": {
          "base_uri": "https://localhost:8080/"
        }
      },
      "outputs": [
        {
          "output_type": "stream",
          "name": "stdout",
          "text": [
            "Sentences: ['This is a sentence.', 'Here is another one.']\n",
            "Words: ['This', 'is', 'a', 'sentence', '.', 'Here', 'is', 'another', 'one', '.']\n"
          ]
        }
      ],
      "source": [
        "from nltk.tokenize import word_tokenize, sent_tokenize\n",
        "\n",
        "# Example: Tokenizing a paragraph into sentences and words\n",
        "paragraph = \"This is a sentence. Here is another one.\"\n",
        "sentences = sent_tokenize(paragraph)\n",
        "words = word_tokenize(paragraph)\n",
        "\n",
        "print(\"Sentences:\", sentences)\n",
        "print(\"Words:\", words)\n"
      ]
    },
    {
      "cell_type": "markdown",
      "id": "cc8c2050-dce8-4e05-b0fa-0862bd1565f7",
      "metadata": {
        "id": "cc8c2050-dce8-4e05-b0fa-0862bd1565f7"
      },
      "source": [
        "## Open Lexicon"
      ]
    },
    {
      "cell_type": "code",
      "execution_count": null,
      "id": "1831d4b8-de0a-46ea-beb2-4d20b8277f14",
      "metadata": {
        "id": "1831d4b8-de0a-46ea-beb2-4d20b8277f14",
        "outputId": "662b2531-018e-452b-e81c-85977de7eb49",
        "colab": {
          "base_uri": "https://localhost:8080/"
        }
      },
      "outputs": [
        {
          "output_type": "stream",
          "name": "stdout",
          "text": [
            "Positive words example: ['a+', 'abound', 'abounds', 'abundance', 'abundant']\n",
            "Negative words example: ['2-faced', '2-faces', 'abnormal', 'abolish', 'abominable']\n"
          ]
        }
      ],
      "source": [
        "from nltk.corpus import opinion_lexicon\n",
        "\n",
        "# Example: Accessing positive and negative word lists\n",
        "positive_words = opinion_lexicon.positive()\n",
        "negative_words = opinion_lexicon.negative()\n",
        "\n",
        "print(\"Positive words example:\", positive_words[:5])\n",
        "print(\"Negative words example:\", negative_words[:5])\n"
      ]
    },
    {
      "cell_type": "markdown",
      "id": "861c1c19-2c75-49ca-953f-971d5945dd14",
      "metadata": {
        "id": "861c1c19-2c75-49ca-953f-971d5945dd14"
      },
      "source": [
        "# Preprocessing"
      ]
    },
    {
      "cell_type": "markdown",
      "id": "0177e818-4652-4a7f-9b57-efca73673fd2",
      "metadata": {
        "id": "0177e818-4652-4a7f-9b57-efca73673fd2"
      },
      "source": [
        "How to Sequence These Steps\n",
        "The preprocessing pipeline generally follows this order:\n",
        "- Sentence Splitting and Tokenization\n",
        "- POS Tagging\n",
        "- Named Entity Recognition (NER)\n",
        "- Word Sense Disambiguation (WSD)\n",
        "- Dependency Parsing (including verb-object detection)\n",
        "- Polarity Detection (Sentiment Analysis) - SentiWordNet, AFINN and the Subjectivity Lexicon\n",
        "- Negation Handling"
      ]
    },
    {
      "cell_type": "markdown",
      "id": "462d8cb3-86c2-4118-bfd2-a9afa7f5d4a3",
      "metadata": {
        "id": "462d8cb3-86c2-4118-bfd2-a9afa7f5d4a3"
      },
      "source": [
        "## Sentence Splitting and Tokenization"
      ]
    },
    {
      "cell_type": "code",
      "execution_count": null,
      "id": "12c6c8a0-5c51-4670-8d12-cfae1237a141",
      "metadata": {
        "id": "12c6c8a0-5c51-4670-8d12-cfae1237a141"
      },
      "outputs": [],
      "source": []
    },
    {
      "cell_type": "code",
      "execution_count": null,
      "id": "3bb1fa4c-6660-4a4b-974e-f46b97aab888",
      "metadata": {
        "id": "3bb1fa4c-6660-4a4b-974e-f46b97aab888"
      },
      "outputs": [],
      "source": []
    },
    {
      "cell_type": "markdown",
      "id": "29fda283-bf5a-474b-9658-c9cf037feef3",
      "metadata": {
        "id": "29fda283-bf5a-474b-9658-c9cf037feef3"
      },
      "source": [
        "## POS Tagging"
      ]
    },
    {
      "cell_type": "code",
      "execution_count": null,
      "id": "63991a14-4da8-4093-b98e-2b0d3bec9d93",
      "metadata": {
        "id": "63991a14-4da8-4093-b98e-2b0d3bec9d93"
      },
      "outputs": [],
      "source": []
    },
    {
      "cell_type": "code",
      "execution_count": null,
      "id": "26089998-a0c6-4e62-84da-0e4f176a74b9",
      "metadata": {
        "id": "26089998-a0c6-4e62-84da-0e4f176a74b9"
      },
      "outputs": [],
      "source": []
    },
    {
      "cell_type": "markdown",
      "id": "93c3f0a9-987b-40c0-892c-115541a82056",
      "metadata": {
        "id": "93c3f0a9-987b-40c0-892c-115541a82056"
      },
      "source": [
        "## Named Entity Recognition (NER)"
      ]
    },
    {
      "cell_type": "code",
      "execution_count": null,
      "id": "58fba3c9-c4ec-4a96-8af2-7cc9c534747b",
      "metadata": {
        "id": "58fba3c9-c4ec-4a96-8af2-7cc9c534747b"
      },
      "outputs": [],
      "source": []
    },
    {
      "cell_type": "code",
      "execution_count": null,
      "id": "0fe459da-2777-4aaf-83db-9a9143ab9d6f",
      "metadata": {
        "id": "0fe459da-2777-4aaf-83db-9a9143ab9d6f"
      },
      "outputs": [],
      "source": []
    },
    {
      "cell_type": "markdown",
      "id": "193d1fda-3b06-491a-9197-fcfed02c7432",
      "metadata": {
        "id": "193d1fda-3b06-491a-9197-fcfed02c7432"
      },
      "source": [
        "## Word Sense Disambiguation (WSD)"
      ]
    },
    {
      "cell_type": "code",
      "execution_count": null,
      "id": "4b5520b3-e184-4f7e-a5c9-11e550da51f4",
      "metadata": {
        "id": "4b5520b3-e184-4f7e-a5c9-11e550da51f4"
      },
      "outputs": [],
      "source": []
    },
    {
      "cell_type": "code",
      "execution_count": null,
      "id": "a130398d-efbc-4645-9c8a-94510feec0a1",
      "metadata": {
        "id": "a130398d-efbc-4645-9c8a-94510feec0a1"
      },
      "outputs": [],
      "source": []
    },
    {
      "cell_type": "markdown",
      "id": "db0c1923-27c4-4044-9266-96712fa73b06",
      "metadata": {
        "id": "db0c1923-27c4-4044-9266-96712fa73b06"
      },
      "source": [
        "## Dependency Parsing (including verb-object detection)"
      ]
    },
    {
      "cell_type": "code",
      "execution_count": null,
      "id": "0acc62c9-0ac2-4b36-b4ad-823d30eff69a",
      "metadata": {
        "id": "0acc62c9-0ac2-4b36-b4ad-823d30eff69a"
      },
      "outputs": [],
      "source": []
    },
    {
      "cell_type": "code",
      "execution_count": null,
      "id": "2745bbd8-9487-41c2-a6cd-a2938c6dc7e9",
      "metadata": {
        "id": "2745bbd8-9487-41c2-a6cd-a2938c6dc7e9"
      },
      "outputs": [],
      "source": []
    },
    {
      "cell_type": "markdown",
      "id": "4bb37dc3-df8e-4d37-8046-205ad16d0196",
      "metadata": {
        "id": "4bb37dc3-df8e-4d37-8046-205ad16d0196"
      },
      "source": [
        "## Polarity Detection (Sentiment Analysis) - SentiWordNet, AFINN and the Subjectivity Lexicon"
      ]
    },
    {
      "cell_type": "code",
      "execution_count": null,
      "id": "0bf1cc7f-88c5-4b1f-aa5b-3df3237be9fc",
      "metadata": {
        "id": "0bf1cc7f-88c5-4b1f-aa5b-3df3237be9fc"
      },
      "outputs": [],
      "source": []
    },
    {
      "cell_type": "code",
      "execution_count": null,
      "id": "1db16310-4313-4e8c-87ad-8803e1d518e3",
      "metadata": {
        "id": "1db16310-4313-4e8c-87ad-8803e1d518e3"
      },
      "outputs": [],
      "source": []
    },
    {
      "cell_type": "markdown",
      "id": "63116db7-e277-4418-8f93-ec9c8dca637b",
      "metadata": {
        "id": "63116db7-e277-4418-8f93-ec9c8dca637b"
      },
      "source": [
        "## Negation Handling"
      ]
    },
    {
      "cell_type": "code",
      "execution_count": null,
      "id": "26ac17a9-ab15-40f5-8aa7-18839e8a9592",
      "metadata": {
        "id": "26ac17a9-ab15-40f5-8aa7-18839e8a9592"
      },
      "outputs": [],
      "source": []
    },
    {
      "cell_type": "code",
      "execution_count": null,
      "id": "bc2629a6-24be-4e74-8464-2d6f24cde435",
      "metadata": {
        "id": "bc2629a6-24be-4e74-8464-2d6f24cde435"
      },
      "outputs": [],
      "source": []
    },
    {
      "cell_type": "code",
      "execution_count": null,
      "id": "b8c41a1a-c92a-4413-a397-db790b5e880a",
      "metadata": {
        "id": "b8c41a1a-c92a-4413-a397-db790b5e880a"
      },
      "outputs": [],
      "source": []
    }
  ],
  "metadata": {
    "kernelspec": {
      "display_name": "Python 3 (ipykernel)",
      "language": "python",
      "name": "python3"
    },
    "language_info": {
      "codemirror_mode": {
        "name": "ipython",
        "version": 3
      },
      "file_extension": ".py",
      "mimetype": "text/x-python",
      "name": "python",
      "nbconvert_exporter": "python",
      "pygments_lexer": "ipython3",
      "version": "3.9.19"
    },
    "colab": {
      "provenance": [],
      "include_colab_link": true
    },
    "widgets": {
      "application/vnd.jupyter.widget-state+json": {
        "6277439da95542f7ac45cbbfe13c9f05": {
          "model_module": "@jupyter-widgets/controls",
          "model_name": "HBoxModel",
          "model_module_version": "1.5.0",
          "state": {
            "_dom_classes": [],
            "_model_module": "@jupyter-widgets/controls",
            "_model_module_version": "1.5.0",
            "_model_name": "HBoxModel",
            "_view_count": null,
            "_view_module": "@jupyter-widgets/controls",
            "_view_module_version": "1.5.0",
            "_view_name": "HBoxView",
            "box_style": "",
            "children": [
              "IPY_MODEL_69129c2bfc7c44f08e0ae399039d35c8",
              "IPY_MODEL_6542deacbc714fff8bd9a9f674ee9d5d",
              "IPY_MODEL_a5ed25dea93a45ffb5a4c34c88e931b1"
            ],
            "layout": "IPY_MODEL_a005c652ca9e464ebe201831d11aee9d"
          }
        },
        "69129c2bfc7c44f08e0ae399039d35c8": {
          "model_module": "@jupyter-widgets/controls",
          "model_name": "HTMLModel",
          "model_module_version": "1.5.0",
          "state": {
            "_dom_classes": [],
            "_model_module": "@jupyter-widgets/controls",
            "_model_module_version": "1.5.0",
            "_model_name": "HTMLModel",
            "_view_count": null,
            "_view_module": "@jupyter-widgets/controls",
            "_view_module_version": "1.5.0",
            "_view_name": "HTMLView",
            "description": "",
            "description_tooltip": null,
            "layout": "IPY_MODEL_6632d82a13a64aa39582f0cf652aacee",
            "placeholder": "​",
            "style": "IPY_MODEL_78dca5cbba894282b7d830a6efeccf05",
            "value": "Downloading https://raw.githubusercontent.com/stanfordnlp/stanza-resources/main/resources_1.8.0.json: "
          }
        },
        "6542deacbc714fff8bd9a9f674ee9d5d": {
          "model_module": "@jupyter-widgets/controls",
          "model_name": "FloatProgressModel",
          "model_module_version": "1.5.0",
          "state": {
            "_dom_classes": [],
            "_model_module": "@jupyter-widgets/controls",
            "_model_module_version": "1.5.0",
            "_model_name": "FloatProgressModel",
            "_view_count": null,
            "_view_module": "@jupyter-widgets/controls",
            "_view_module_version": "1.5.0",
            "_view_name": "ProgressView",
            "bar_style": "success",
            "description": "",
            "description_tooltip": null,
            "layout": "IPY_MODEL_aa8cd680579346e5b573526357163bf9",
            "max": 47900,
            "min": 0,
            "orientation": "horizontal",
            "style": "IPY_MODEL_2ab4c43d2c7e45e088c116efc31469a2",
            "value": 47900
          }
        },
        "a5ed25dea93a45ffb5a4c34c88e931b1": {
          "model_module": "@jupyter-widgets/controls",
          "model_name": "HTMLModel",
          "model_module_version": "1.5.0",
          "state": {
            "_dom_classes": [],
            "_model_module": "@jupyter-widgets/controls",
            "_model_module_version": "1.5.0",
            "_model_name": "HTMLModel",
            "_view_count": null,
            "_view_module": "@jupyter-widgets/controls",
            "_view_module_version": "1.5.0",
            "_view_name": "HTMLView",
            "description": "",
            "description_tooltip": null,
            "layout": "IPY_MODEL_fb2fc465b1c24d509704578f97164d9e",
            "placeholder": "​",
            "style": "IPY_MODEL_2151a2c543a54f85b73bb00979f718f2",
            "value": " 386k/? [00:00&lt;00:00, 11.1MB/s]"
          }
        },
        "a005c652ca9e464ebe201831d11aee9d": {
          "model_module": "@jupyter-widgets/base",
          "model_name": "LayoutModel",
          "model_module_version": "1.2.0",
          "state": {
            "_model_module": "@jupyter-widgets/base",
            "_model_module_version": "1.2.0",
            "_model_name": "LayoutModel",
            "_view_count": null,
            "_view_module": "@jupyter-widgets/base",
            "_view_module_version": "1.2.0",
            "_view_name": "LayoutView",
            "align_content": null,
            "align_items": null,
            "align_self": null,
            "border": null,
            "bottom": null,
            "display": null,
            "flex": null,
            "flex_flow": null,
            "grid_area": null,
            "grid_auto_columns": null,
            "grid_auto_flow": null,
            "grid_auto_rows": null,
            "grid_column": null,
            "grid_gap": null,
            "grid_row": null,
            "grid_template_areas": null,
            "grid_template_columns": null,
            "grid_template_rows": null,
            "height": null,
            "justify_content": null,
            "justify_items": null,
            "left": null,
            "margin": null,
            "max_height": null,
            "max_width": null,
            "min_height": null,
            "min_width": null,
            "object_fit": null,
            "object_position": null,
            "order": null,
            "overflow": null,
            "overflow_x": null,
            "overflow_y": null,
            "padding": null,
            "right": null,
            "top": null,
            "visibility": null,
            "width": null
          }
        },
        "6632d82a13a64aa39582f0cf652aacee": {
          "model_module": "@jupyter-widgets/base",
          "model_name": "LayoutModel",
          "model_module_version": "1.2.0",
          "state": {
            "_model_module": "@jupyter-widgets/base",
            "_model_module_version": "1.2.0",
            "_model_name": "LayoutModel",
            "_view_count": null,
            "_view_module": "@jupyter-widgets/base",
            "_view_module_version": "1.2.0",
            "_view_name": "LayoutView",
            "align_content": null,
            "align_items": null,
            "align_self": null,
            "border": null,
            "bottom": null,
            "display": null,
            "flex": null,
            "flex_flow": null,
            "grid_area": null,
            "grid_auto_columns": null,
            "grid_auto_flow": null,
            "grid_auto_rows": null,
            "grid_column": null,
            "grid_gap": null,
            "grid_row": null,
            "grid_template_areas": null,
            "grid_template_columns": null,
            "grid_template_rows": null,
            "height": null,
            "justify_content": null,
            "justify_items": null,
            "left": null,
            "margin": null,
            "max_height": null,
            "max_width": null,
            "min_height": null,
            "min_width": null,
            "object_fit": null,
            "object_position": null,
            "order": null,
            "overflow": null,
            "overflow_x": null,
            "overflow_y": null,
            "padding": null,
            "right": null,
            "top": null,
            "visibility": null,
            "width": null
          }
        },
        "78dca5cbba894282b7d830a6efeccf05": {
          "model_module": "@jupyter-widgets/controls",
          "model_name": "DescriptionStyleModel",
          "model_module_version": "1.5.0",
          "state": {
            "_model_module": "@jupyter-widgets/controls",
            "_model_module_version": "1.5.0",
            "_model_name": "DescriptionStyleModel",
            "_view_count": null,
            "_view_module": "@jupyter-widgets/base",
            "_view_module_version": "1.2.0",
            "_view_name": "StyleView",
            "description_width": ""
          }
        },
        "aa8cd680579346e5b573526357163bf9": {
          "model_module": "@jupyter-widgets/base",
          "model_name": "LayoutModel",
          "model_module_version": "1.2.0",
          "state": {
            "_model_module": "@jupyter-widgets/base",
            "_model_module_version": "1.2.0",
            "_model_name": "LayoutModel",
            "_view_count": null,
            "_view_module": "@jupyter-widgets/base",
            "_view_module_version": "1.2.0",
            "_view_name": "LayoutView",
            "align_content": null,
            "align_items": null,
            "align_self": null,
            "border": null,
            "bottom": null,
            "display": null,
            "flex": null,
            "flex_flow": null,
            "grid_area": null,
            "grid_auto_columns": null,
            "grid_auto_flow": null,
            "grid_auto_rows": null,
            "grid_column": null,
            "grid_gap": null,
            "grid_row": null,
            "grid_template_areas": null,
            "grid_template_columns": null,
            "grid_template_rows": null,
            "height": null,
            "justify_content": null,
            "justify_items": null,
            "left": null,
            "margin": null,
            "max_height": null,
            "max_width": null,
            "min_height": null,
            "min_width": null,
            "object_fit": null,
            "object_position": null,
            "order": null,
            "overflow": null,
            "overflow_x": null,
            "overflow_y": null,
            "padding": null,
            "right": null,
            "top": null,
            "visibility": null,
            "width": null
          }
        },
        "2ab4c43d2c7e45e088c116efc31469a2": {
          "model_module": "@jupyter-widgets/controls",
          "model_name": "ProgressStyleModel",
          "model_module_version": "1.5.0",
          "state": {
            "_model_module": "@jupyter-widgets/controls",
            "_model_module_version": "1.5.0",
            "_model_name": "ProgressStyleModel",
            "_view_count": null,
            "_view_module": "@jupyter-widgets/base",
            "_view_module_version": "1.2.0",
            "_view_name": "StyleView",
            "bar_color": null,
            "description_width": ""
          }
        },
        "fb2fc465b1c24d509704578f97164d9e": {
          "model_module": "@jupyter-widgets/base",
          "model_name": "LayoutModel",
          "model_module_version": "1.2.0",
          "state": {
            "_model_module": "@jupyter-widgets/base",
            "_model_module_version": "1.2.0",
            "_model_name": "LayoutModel",
            "_view_count": null,
            "_view_module": "@jupyter-widgets/base",
            "_view_module_version": "1.2.0",
            "_view_name": "LayoutView",
            "align_content": null,
            "align_items": null,
            "align_self": null,
            "border": null,
            "bottom": null,
            "display": null,
            "flex": null,
            "flex_flow": null,
            "grid_area": null,
            "grid_auto_columns": null,
            "grid_auto_flow": null,
            "grid_auto_rows": null,
            "grid_column": null,
            "grid_gap": null,
            "grid_row": null,
            "grid_template_areas": null,
            "grid_template_columns": null,
            "grid_template_rows": null,
            "height": null,
            "justify_content": null,
            "justify_items": null,
            "left": null,
            "margin": null,
            "max_height": null,
            "max_width": null,
            "min_height": null,
            "min_width": null,
            "object_fit": null,
            "object_position": null,
            "order": null,
            "overflow": null,
            "overflow_x": null,
            "overflow_y": null,
            "padding": null,
            "right": null,
            "top": null,
            "visibility": null,
            "width": null
          }
        },
        "2151a2c543a54f85b73bb00979f718f2": {
          "model_module": "@jupyter-widgets/controls",
          "model_name": "DescriptionStyleModel",
          "model_module_version": "1.5.0",
          "state": {
            "_model_module": "@jupyter-widgets/controls",
            "_model_module_version": "1.5.0",
            "_model_name": "DescriptionStyleModel",
            "_view_count": null,
            "_view_module": "@jupyter-widgets/base",
            "_view_module_version": "1.2.0",
            "_view_name": "StyleView",
            "description_width": ""
          }
        },
        "9c114aa38e9d4de3a7c03645305d536a": {
          "model_module": "@jupyter-widgets/controls",
          "model_name": "HBoxModel",
          "model_module_version": "1.5.0",
          "state": {
            "_dom_classes": [],
            "_model_module": "@jupyter-widgets/controls",
            "_model_module_version": "1.5.0",
            "_model_name": "HBoxModel",
            "_view_count": null,
            "_view_module": "@jupyter-widgets/controls",
            "_view_module_version": "1.5.0",
            "_view_name": "HBoxView",
            "box_style": "",
            "children": [
              "IPY_MODEL_6130e83aa7cf4687b0fb283128929699",
              "IPY_MODEL_42db9659e7fb41c2abb0f0d3f500e383",
              "IPY_MODEL_584a546d09f141ed9e5df5bd36a8518e"
            ],
            "layout": "IPY_MODEL_5a013a20b7954818adf74773e36b4f3e"
          }
        },
        "6130e83aa7cf4687b0fb283128929699": {
          "model_module": "@jupyter-widgets/controls",
          "model_name": "HTMLModel",
          "model_module_version": "1.5.0",
          "state": {
            "_dom_classes": [],
            "_model_module": "@jupyter-widgets/controls",
            "_model_module_version": "1.5.0",
            "_model_name": "HTMLModel",
            "_view_count": null,
            "_view_module": "@jupyter-widgets/controls",
            "_view_module_version": "1.5.0",
            "_view_name": "HTMLView",
            "description": "",
            "description_tooltip": null,
            "layout": "IPY_MODEL_6ee5dd2c0b5f4594ad7f618e487832cd",
            "placeholder": "​",
            "style": "IPY_MODEL_13d50158a849412b9e3891409eb9fa2d",
            "value": "Downloading https://huggingface.co/stanfordnlp/stanza-en/resolve/v1.8.0/models/default.zip: 100%"
          }
        },
        "42db9659e7fb41c2abb0f0d3f500e383": {
          "model_module": "@jupyter-widgets/controls",
          "model_name": "FloatProgressModel",
          "model_module_version": "1.5.0",
          "state": {
            "_dom_classes": [],
            "_model_module": "@jupyter-widgets/controls",
            "_model_module_version": "1.5.0",
            "_model_name": "FloatProgressModel",
            "_view_count": null,
            "_view_module": "@jupyter-widgets/controls",
            "_view_module_version": "1.5.0",
            "_view_name": "ProgressView",
            "bar_style": "success",
            "description": "",
            "description_tooltip": null,
            "layout": "IPY_MODEL_1eddfe1a661e459cb3fc967c02947086",
            "max": 526684143,
            "min": 0,
            "orientation": "horizontal",
            "style": "IPY_MODEL_acf372ee2de042c9b00065a8a845e1c2",
            "value": 526684143
          }
        },
        "584a546d09f141ed9e5df5bd36a8518e": {
          "model_module": "@jupyter-widgets/controls",
          "model_name": "HTMLModel",
          "model_module_version": "1.5.0",
          "state": {
            "_dom_classes": [],
            "_model_module": "@jupyter-widgets/controls",
            "_model_module_version": "1.5.0",
            "_model_name": "HTMLModel",
            "_view_count": null,
            "_view_module": "@jupyter-widgets/controls",
            "_view_module_version": "1.5.0",
            "_view_name": "HTMLView",
            "description": "",
            "description_tooltip": null,
            "layout": "IPY_MODEL_3372e5f5ae9740b184faeb9482de1629",
            "placeholder": "​",
            "style": "IPY_MODEL_016bda5aa9014d63b88f714fe1f98ad6",
            "value": " 527M/527M [00:04&lt;00:00, 159MB/s]"
          }
        },
        "5a013a20b7954818adf74773e36b4f3e": {
          "model_module": "@jupyter-widgets/base",
          "model_name": "LayoutModel",
          "model_module_version": "1.2.0",
          "state": {
            "_model_module": "@jupyter-widgets/base",
            "_model_module_version": "1.2.0",
            "_model_name": "LayoutModel",
            "_view_count": null,
            "_view_module": "@jupyter-widgets/base",
            "_view_module_version": "1.2.0",
            "_view_name": "LayoutView",
            "align_content": null,
            "align_items": null,
            "align_self": null,
            "border": null,
            "bottom": null,
            "display": null,
            "flex": null,
            "flex_flow": null,
            "grid_area": null,
            "grid_auto_columns": null,
            "grid_auto_flow": null,
            "grid_auto_rows": null,
            "grid_column": null,
            "grid_gap": null,
            "grid_row": null,
            "grid_template_areas": null,
            "grid_template_columns": null,
            "grid_template_rows": null,
            "height": null,
            "justify_content": null,
            "justify_items": null,
            "left": null,
            "margin": null,
            "max_height": null,
            "max_width": null,
            "min_height": null,
            "min_width": null,
            "object_fit": null,
            "object_position": null,
            "order": null,
            "overflow": null,
            "overflow_x": null,
            "overflow_y": null,
            "padding": null,
            "right": null,
            "top": null,
            "visibility": null,
            "width": null
          }
        },
        "6ee5dd2c0b5f4594ad7f618e487832cd": {
          "model_module": "@jupyter-widgets/base",
          "model_name": "LayoutModel",
          "model_module_version": "1.2.0",
          "state": {
            "_model_module": "@jupyter-widgets/base",
            "_model_module_version": "1.2.0",
            "_model_name": "LayoutModel",
            "_view_count": null,
            "_view_module": "@jupyter-widgets/base",
            "_view_module_version": "1.2.0",
            "_view_name": "LayoutView",
            "align_content": null,
            "align_items": null,
            "align_self": null,
            "border": null,
            "bottom": null,
            "display": null,
            "flex": null,
            "flex_flow": null,
            "grid_area": null,
            "grid_auto_columns": null,
            "grid_auto_flow": null,
            "grid_auto_rows": null,
            "grid_column": null,
            "grid_gap": null,
            "grid_row": null,
            "grid_template_areas": null,
            "grid_template_columns": null,
            "grid_template_rows": null,
            "height": null,
            "justify_content": null,
            "justify_items": null,
            "left": null,
            "margin": null,
            "max_height": null,
            "max_width": null,
            "min_height": null,
            "min_width": null,
            "object_fit": null,
            "object_position": null,
            "order": null,
            "overflow": null,
            "overflow_x": null,
            "overflow_y": null,
            "padding": null,
            "right": null,
            "top": null,
            "visibility": null,
            "width": null
          }
        },
        "13d50158a849412b9e3891409eb9fa2d": {
          "model_module": "@jupyter-widgets/controls",
          "model_name": "DescriptionStyleModel",
          "model_module_version": "1.5.0",
          "state": {
            "_model_module": "@jupyter-widgets/controls",
            "_model_module_version": "1.5.0",
            "_model_name": "DescriptionStyleModel",
            "_view_count": null,
            "_view_module": "@jupyter-widgets/base",
            "_view_module_version": "1.2.0",
            "_view_name": "StyleView",
            "description_width": ""
          }
        },
        "1eddfe1a661e459cb3fc967c02947086": {
          "model_module": "@jupyter-widgets/base",
          "model_name": "LayoutModel",
          "model_module_version": "1.2.0",
          "state": {
            "_model_module": "@jupyter-widgets/base",
            "_model_module_version": "1.2.0",
            "_model_name": "LayoutModel",
            "_view_count": null,
            "_view_module": "@jupyter-widgets/base",
            "_view_module_version": "1.2.0",
            "_view_name": "LayoutView",
            "align_content": null,
            "align_items": null,
            "align_self": null,
            "border": null,
            "bottom": null,
            "display": null,
            "flex": null,
            "flex_flow": null,
            "grid_area": null,
            "grid_auto_columns": null,
            "grid_auto_flow": null,
            "grid_auto_rows": null,
            "grid_column": null,
            "grid_gap": null,
            "grid_row": null,
            "grid_template_areas": null,
            "grid_template_columns": null,
            "grid_template_rows": null,
            "height": null,
            "justify_content": null,
            "justify_items": null,
            "left": null,
            "margin": null,
            "max_height": null,
            "max_width": null,
            "min_height": null,
            "min_width": null,
            "object_fit": null,
            "object_position": null,
            "order": null,
            "overflow": null,
            "overflow_x": null,
            "overflow_y": null,
            "padding": null,
            "right": null,
            "top": null,
            "visibility": null,
            "width": null
          }
        },
        "acf372ee2de042c9b00065a8a845e1c2": {
          "model_module": "@jupyter-widgets/controls",
          "model_name": "ProgressStyleModel",
          "model_module_version": "1.5.0",
          "state": {
            "_model_module": "@jupyter-widgets/controls",
            "_model_module_version": "1.5.0",
            "_model_name": "ProgressStyleModel",
            "_view_count": null,
            "_view_module": "@jupyter-widgets/base",
            "_view_module_version": "1.2.0",
            "_view_name": "StyleView",
            "bar_color": null,
            "description_width": ""
          }
        },
        "3372e5f5ae9740b184faeb9482de1629": {
          "model_module": "@jupyter-widgets/base",
          "model_name": "LayoutModel",
          "model_module_version": "1.2.0",
          "state": {
            "_model_module": "@jupyter-widgets/base",
            "_model_module_version": "1.2.0",
            "_model_name": "LayoutModel",
            "_view_count": null,
            "_view_module": "@jupyter-widgets/base",
            "_view_module_version": "1.2.0",
            "_view_name": "LayoutView",
            "align_content": null,
            "align_items": null,
            "align_self": null,
            "border": null,
            "bottom": null,
            "display": null,
            "flex": null,
            "flex_flow": null,
            "grid_area": null,
            "grid_auto_columns": null,
            "grid_auto_flow": null,
            "grid_auto_rows": null,
            "grid_column": null,
            "grid_gap": null,
            "grid_row": null,
            "grid_template_areas": null,
            "grid_template_columns": null,
            "grid_template_rows": null,
            "height": null,
            "justify_content": null,
            "justify_items": null,
            "left": null,
            "margin": null,
            "max_height": null,
            "max_width": null,
            "min_height": null,
            "min_width": null,
            "object_fit": null,
            "object_position": null,
            "order": null,
            "overflow": null,
            "overflow_x": null,
            "overflow_y": null,
            "padding": null,
            "right": null,
            "top": null,
            "visibility": null,
            "width": null
          }
        },
        "016bda5aa9014d63b88f714fe1f98ad6": {
          "model_module": "@jupyter-widgets/controls",
          "model_name": "DescriptionStyleModel",
          "model_module_version": "1.5.0",
          "state": {
            "_model_module": "@jupyter-widgets/controls",
            "_model_module_version": "1.5.0",
            "_model_name": "DescriptionStyleModel",
            "_view_count": null,
            "_view_module": "@jupyter-widgets/base",
            "_view_module_version": "1.2.0",
            "_view_name": "StyleView",
            "description_width": ""
          }
        }
      }
    }
  },
  "nbformat": 4,
  "nbformat_minor": 5
}
