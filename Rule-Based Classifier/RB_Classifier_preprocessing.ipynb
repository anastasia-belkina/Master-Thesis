{
 "cells": [
  {
   "cell_type": "markdown",
   "id": "694e731c-fea2-47f8-84fc-fcfae836bf1c",
   "metadata": {},
   "source": [
    "# Import libraries"
   ]
  },
  {
   "cell_type": "code",
   "execution_count": 1,
   "id": "73f76ffa-f9bd-45bf-ab56-f441f88c5a8e",
   "metadata": {},
   "outputs": [],
   "source": [
    "import nltk\n",
    "import stanza\n",
    "import ast\n",
    "from afinn import Afinn\n",
    "afinn = Afinn()\n",
    "from nltk.corpus import sentiwordnet as swn\n",
    "from nltk.corpus import wordnet as wn\n",
    "from nltk.corpus import verbnet as vn\n",
    "from nltk.corpus import opinion_lexicon\n",
    "from nltk.wsd import lesk\n",
    "from nltk.corpus import wordnet\n",
    "from sklearn.model_selection import cross_val_score\n",
    "from sklearn.metrics import classification_report, confusion_matrix, f1_score, precision_score, recall_score\n",
    "from sklearn.feature_extraction.text import CountVectorizer\n",
    "import pandas as pd\n",
    "import numpy as np\n",
    "import matplotlib.pyplot as plt\n",
    "import seaborn as sns\n",
    "import os\n",
    "import openpyxl"
   ]
  },
  {
   "cell_type": "markdown",
   "id": "XgpcdWkBTA2i",
   "metadata": {
    "id": "XgpcdWkBTA2i"
   },
   "source": [
    "# Import Data"
   ]
  },
  {
   "cell_type": "markdown",
   "id": "OXxtrS-FTIcH",
   "metadata": {
    "id": "OXxtrS-FTIcH"
   },
   "source": [
    "* datasets_cleaned/test_cleaned\n",
    "* datasets_cleaned/train_cleaned\n",
    "* datasets_cleaned/valid_cleaned\n",
    "\n"
   ]
  },
  {
   "cell_type": "markdown",
   "id": "Qx4EcsPvYerO",
   "metadata": {
    "id": "Qx4EcsPvYerO"
   },
   "source": [
    "Need to shuffle the data because the rows are sorted by labels."
   ]
  },
  {
   "cell_type": "code",
   "execution_count": 2,
   "id": "SorE_ErxS9FO",
   "metadata": {
    "id": "SorE_ErxS9FO"
   },
   "outputs": [],
   "source": [
    "column_names = [\"Sentence\", \"Ent1\", \"Ent2\", \"Label\"]\n",
    "\n",
    "df_train = pd.read_csv('C:/Users/Anastasiia Belkina/MANNHEIM/MASTER_THESIS_CODE/Real_News_Data_preparation/datasets_only_same_ents_clean/train.txt', sep='\\t', header=None, names=column_names)\n",
    "df_train_dropped = df_train.drop(columns=[\"Ent1\", \"Ent2\"])\n",
    "df_train_shuffled = df_train_dropped.sample(frac=1).reset_index(drop=True)\n",
    "\n",
    "df_valid = pd.read_csv('C:/Users/Anastasiia Belkina/MANNHEIM/MASTER_THESIS_CODE/Real_News_Data_preparation/datasets_only_same_ents_clean/valid.txt', sep='\\t', header=None, names=column_names)\n",
    "df_valid_dropped = df_valid.drop(columns=[\"Ent1\", \"Ent2\"])\n",
    "df_valid_shuffled = df_valid_dropped.sample(frac=1).reset_index(drop=True)\n",
    "\n",
    "df_test = pd.read_csv('C:/Users/Anastasiia Belkina/MANNHEIM/MASTER_THESIS_CODE/Real_News_Data_preparation/datasets_only_same_ents_clean/test.txt', sep='\\t', header=None, names=column_names)\n",
    "df_test_dropped = df_test.drop(columns=[\"Ent1\", \"Ent2\"])\n",
    "df_test_shuffled = df_test_dropped.sample(frac=1).reset_index(drop=True)"
   ]
  },
  {
   "cell_type": "markdown",
   "id": "861c1c19-2c75-49ca-953f-971d5945dd14",
   "metadata": {
    "id": "861c1c19-2c75-49ca-953f-971d5945dd14"
   },
   "source": [
    "# Preprocessing\n",
    "\n",
    "How to Sequence These Steps\n",
    "The preprocessing pipeline generally follows this order:\n",
    "- Tokenization\n",
    "- POS Tagging\n",
    "- Named Entity Recognition (NER)\n",
    "- Dependency Parsing (including verb-object detection)"
   ]
  },
  {
   "cell_type": "markdown",
   "id": "462d8cb3-86c2-4118-bfd2-a9afa7f5d4a3",
   "metadata": {
    "id": "462d8cb3-86c2-4118-bfd2-a9afa7f5d4a3"
   },
   "source": [
    "## Step 1: Tokenization, POS Tagging, and Named Entity Recognition (NER) using Stanza"
   ]
  },
  {
   "cell_type": "code",
   "execution_count": 3,
   "id": "e6347a9a-04af-4de6-8b26-0da6552cd393",
   "metadata": {
    "scrolled": true
   },
   "outputs": [
    {
     "name": "stderr",
     "output_type": "stream",
     "text": [
      "2024-09-11 13:53:50 INFO: Checking for updates to resources.json in case models have been updated.  Note: this behavior can be turned off with download_method=None or download_method=DownloadMethod.REUSE_RESOURCES\n"
     ]
    },
    {
     "data": {
      "application/vnd.jupyter.widget-view+json": {
       "model_id": "d443530206c74f0e9db955a492a9acf6",
       "version_major": 2,
       "version_minor": 0
      },
      "text/plain": [
       "Downloading https://raw.githubusercontent.com/stanfordnlp/stanza-resources/main/resources_1.8.0.json:   0%|   …"
      ]
     },
     "metadata": {},
     "output_type": "display_data"
    },
    {
     "name": "stderr",
     "output_type": "stream",
     "text": [
      "2024-09-11 13:53:50 INFO: Downloaded file to C:\\Users\\Anastasiia Belkina\\stanza_resources\\resources.json\n",
      "2024-09-11 13:53:51 INFO: Loading these models for language: en (English):\n",
      "=========================================\n",
      "| Processor | Package                   |\n",
      "-----------------------------------------\n",
      "| tokenize  | combined                  |\n",
      "| mwt       | combined                  |\n",
      "| pos       | combined_charlm           |\n",
      "| lemma     | combined_nocharlm         |\n",
      "| depparse  | combined_charlm           |\n",
      "| ner       | ontonotes-ww-multi_charlm |\n",
      "=========================================\n",
      "\n",
      "2024-09-11 13:53:51 INFO: Using device: cpu\n",
      "2024-09-11 13:53:51 INFO: Loading: tokenize\n",
      "C:\\Users\\Anastasiia Belkina\\anaconda3\\envs\\Rule_Based_Classifier\\lib\\site-packages\\stanza\\models\\tokenization\\trainer.py:82: FutureWarning: You are using `torch.load` with `weights_only=False` (the current default value), which uses the default pickle module implicitly. It is possible to construct malicious pickle data which will execute arbitrary code during unpickling (See https://github.com/pytorch/pytorch/blob/main/SECURITY.md#untrusted-models for more details). In a future release, the default value for `weights_only` will be flipped to `True`. This limits the functions that could be executed during unpickling. Arbitrary objects will no longer be allowed to be loaded via this mode unless they are explicitly allowlisted by the user via `torch.serialization.add_safe_globals`. We recommend you start setting `weights_only=True` for any use case where you don't have full control of the loaded file. Please open an issue on GitHub for any issues related to this experimental feature.\n",
      "  checkpoint = torch.load(filename, lambda storage, loc: storage)\n",
      "2024-09-11 13:53:52 INFO: Loading: mwt\n",
      "C:\\Users\\Anastasiia Belkina\\anaconda3\\envs\\Rule_Based_Classifier\\lib\\site-packages\\stanza\\models\\mwt\\trainer.py:170: FutureWarning: You are using `torch.load` with `weights_only=False` (the current default value), which uses the default pickle module implicitly. It is possible to construct malicious pickle data which will execute arbitrary code during unpickling (See https://github.com/pytorch/pytorch/blob/main/SECURITY.md#untrusted-models for more details). In a future release, the default value for `weights_only` will be flipped to `True`. This limits the functions that could be executed during unpickling. Arbitrary objects will no longer be allowed to be loaded via this mode unless they are explicitly allowlisted by the user via `torch.serialization.add_safe_globals`. We recommend you start setting `weights_only=True` for any use case where you don't have full control of the loaded file. Please open an issue on GitHub for any issues related to this experimental feature.\n",
      "  checkpoint = torch.load(filename, lambda storage, loc: storage)\n",
      "2024-09-11 13:53:52 INFO: Loading: pos\n",
      "C:\\Users\\Anastasiia Belkina\\anaconda3\\envs\\Rule_Based_Classifier\\lib\\site-packages\\stanza\\models\\pos\\trainer.py:139: FutureWarning: You are using `torch.load` with `weights_only=False` (the current default value), which uses the default pickle module implicitly. It is possible to construct malicious pickle data which will execute arbitrary code during unpickling (See https://github.com/pytorch/pytorch/blob/main/SECURITY.md#untrusted-models for more details). In a future release, the default value for `weights_only` will be flipped to `True`. This limits the functions that could be executed during unpickling. Arbitrary objects will no longer be allowed to be loaded via this mode unless they are explicitly allowlisted by the user via `torch.serialization.add_safe_globals`. We recommend you start setting `weights_only=True` for any use case where you don't have full control of the loaded file. Please open an issue on GitHub for any issues related to this experimental feature.\n",
      "  checkpoint = torch.load(filename, lambda storage, loc: storage)\n",
      "C:\\Users\\Anastasiia Belkina\\anaconda3\\envs\\Rule_Based_Classifier\\lib\\site-packages\\stanza\\models\\common\\pretrain.py:56: FutureWarning: You are using `torch.load` with `weights_only=False` (the current default value), which uses the default pickle module implicitly. It is possible to construct malicious pickle data which will execute arbitrary code during unpickling (See https://github.com/pytorch/pytorch/blob/main/SECURITY.md#untrusted-models for more details). In a future release, the default value for `weights_only` will be flipped to `True`. This limits the functions that could be executed during unpickling. Arbitrary objects will no longer be allowed to be loaded via this mode unless they are explicitly allowlisted by the user via `torch.serialization.add_safe_globals`. We recommend you start setting `weights_only=True` for any use case where you don't have full control of the loaded file. Please open an issue on GitHub for any issues related to this experimental feature.\n",
      "  data = torch.load(self.filename, lambda storage, loc: storage)\n",
      "C:\\Users\\Anastasiia Belkina\\anaconda3\\envs\\Rule_Based_Classifier\\lib\\site-packages\\stanza\\models\\common\\char_model.py:271: FutureWarning: You are using `torch.load` with `weights_only=False` (the current default value), which uses the default pickle module implicitly. It is possible to construct malicious pickle data which will execute arbitrary code during unpickling (See https://github.com/pytorch/pytorch/blob/main/SECURITY.md#untrusted-models for more details). In a future release, the default value for `weights_only` will be flipped to `True`. This limits the functions that could be executed during unpickling. Arbitrary objects will no longer be allowed to be loaded via this mode unless they are explicitly allowlisted by the user via `torch.serialization.add_safe_globals`. We recommend you start setting `weights_only=True` for any use case where you don't have full control of the loaded file. Please open an issue on GitHub for any issues related to this experimental feature.\n",
      "  state = torch.load(filename, lambda storage, loc: storage)\n",
      "2024-09-11 13:53:52 INFO: Loading: lemma\n",
      "C:\\Users\\Anastasiia Belkina\\anaconda3\\envs\\Rule_Based_Classifier\\lib\\site-packages\\stanza\\models\\lemma\\trainer.py:236: FutureWarning: You are using `torch.load` with `weights_only=False` (the current default value), which uses the default pickle module implicitly. It is possible to construct malicious pickle data which will execute arbitrary code during unpickling (See https://github.com/pytorch/pytorch/blob/main/SECURITY.md#untrusted-models for more details). In a future release, the default value for `weights_only` will be flipped to `True`. This limits the functions that could be executed during unpickling. Arbitrary objects will no longer be allowed to be loaded via this mode unless they are explicitly allowlisted by the user via `torch.serialization.add_safe_globals`. We recommend you start setting `weights_only=True` for any use case where you don't have full control of the loaded file. Please open an issue on GitHub for any issues related to this experimental feature.\n",
      "  checkpoint = torch.load(filename, lambda storage, loc: storage)\n",
      "2024-09-11 13:53:52 INFO: Loading: depparse\n",
      "C:\\Users\\Anastasiia Belkina\\anaconda3\\envs\\Rule_Based_Classifier\\lib\\site-packages\\stanza\\models\\depparse\\trainer.py:194: FutureWarning: You are using `torch.load` with `weights_only=False` (the current default value), which uses the default pickle module implicitly. It is possible to construct malicious pickle data which will execute arbitrary code during unpickling (See https://github.com/pytorch/pytorch/blob/main/SECURITY.md#untrusted-models for more details). In a future release, the default value for `weights_only` will be flipped to `True`. This limits the functions that could be executed during unpickling. Arbitrary objects will no longer be allowed to be loaded via this mode unless they are explicitly allowlisted by the user via `torch.serialization.add_safe_globals`. We recommend you start setting `weights_only=True` for any use case where you don't have full control of the loaded file. Please open an issue on GitHub for any issues related to this experimental feature.\n",
      "  checkpoint = torch.load(filename, lambda storage, loc: storage)\n",
      "2024-09-11 13:53:52 INFO: Loading: ner\n",
      "C:\\Users\\Anastasiia Belkina\\anaconda3\\envs\\Rule_Based_Classifier\\lib\\site-packages\\stanza\\models\\ner\\trainer.py:197: FutureWarning: You are using `torch.load` with `weights_only=False` (the current default value), which uses the default pickle module implicitly. It is possible to construct malicious pickle data which will execute arbitrary code during unpickling (See https://github.com/pytorch/pytorch/blob/main/SECURITY.md#untrusted-models for more details). In a future release, the default value for `weights_only` will be flipped to `True`. This limits the functions that could be executed during unpickling. Arbitrary objects will no longer be allowed to be loaded via this mode unless they are explicitly allowlisted by the user via `torch.serialization.add_safe_globals`. We recommend you start setting `weights_only=True` for any use case where you don't have full control of the loaded file. Please open an issue on GitHub for any issues related to this experimental feature.\n",
      "  checkpoint = torch.load(filename, lambda storage, loc: storage)\n",
      "2024-09-11 13:53:53 INFO: Done loading processors!\n"
     ]
    }
   ],
   "source": [
    "# Initialize Stanza pipeline\n",
    "nlp = stanza.Pipeline('en', processors='tokenize,mwt,pos,lemma,depparse,ner')\n",
    "\n",
    "# Tokenization, POS tagging, and NER\n",
    "def process_text(text):\n",
    "    doc = nlp(text)\n",
    "    tokens = [(word.text, word.upos) for sent in doc.sentences for word in sent.words]\n",
    "    entities = [(ent.text, ent.type) for ent in doc.entities]\n",
    "    return tokens, entities\n",
    "\n",
    "df_train_shuffled['tokens_pos'], df_train_shuffled['entities'] = zip(*df_train_shuffled['Sentence'].apply(process_text))\n",
    "df_valid_shuffled['tokens_pos'], df_valid_shuffled['entities'] = zip(*df_valid_shuffled['Sentence'].apply(process_text))\n",
    "df_test_shuffled['tokens_pos'], df_test_shuffled['entities'] = zip(*df_test_shuffled['Sentence'].apply(process_text))"
   ]
  },
  {
   "cell_type": "markdown",
   "id": "db0c1923-27c4-4044-9266-96712fa73b06",
   "metadata": {
    "id": "db0c1923-27c4-4044-9266-96712fa73b06"
   },
   "source": [
    "## Step 2: Dependency Parsing using Stanza"
   ]
  },
  {
   "cell_type": "code",
   "execution_count": 8,
   "id": "0acc62c9-0ac2-4b36-b4ad-823d30eff69a",
   "metadata": {
    "id": "0acc62c9-0ac2-4b36-b4ad-823d30eff69a"
   },
   "outputs": [],
   "source": [
    "def dependency_parse(text):\n",
    "    doc = nlp(text)\n",
    "    dependencies = [(word.text, word.head, word.deprel) for sent in doc.sentences for word in sent.words]\n",
    "    return dependencies\n",
    "\n",
    "df_train_shuffled['dependencies'] = df_train_shuffled['Sentence'].apply(dependency_parse)\n",
    "df_valid_shuffled['dependencies'] = df_valid_shuffled['Sentence'].apply(dependency_parse)\n",
    "df_test_shuffled['dependencies'] = df_test_shuffled['Sentence'].apply(dependency_parse)"
   ]
  },
  {
   "cell_type": "markdown",
   "id": "9a2513d1-be44-4aa0-84c0-47248ab4bba5",
   "metadata": {},
   "source": [
    "## Checking the preprocessed data"
   ]
  },
  {
   "cell_type": "code",
   "execution_count": 9,
   "id": "b8c41a1a-c92a-4413-a397-db790b5e880a",
   "metadata": {
    "id": "b8c41a1a-c92a-4413-a397-db790b5e880a"
   },
   "outputs": [
    {
     "data": {
      "text/html": [
       "<div>\n",
       "<style scoped>\n",
       "    .dataframe tbody tr th:only-of-type {\n",
       "        vertical-align: middle;\n",
       "    }\n",
       "\n",
       "    .dataframe tbody tr th {\n",
       "        vertical-align: top;\n",
       "    }\n",
       "\n",
       "    .dataframe thead th {\n",
       "        text-align: right;\n",
       "    }\n",
       "</style>\n",
       "<table border=\"1\" class=\"dataframe\">\n",
       "  <thead>\n",
       "    <tr style=\"text-align: right;\">\n",
       "      <th></th>\n",
       "      <th>Sentence</th>\n",
       "      <th>Label</th>\n",
       "      <th>tokens_pos</th>\n",
       "      <th>entities</th>\n",
       "      <th>dependencies</th>\n",
       "    </tr>\n",
       "  </thead>\n",
       "  <tbody>\n",
       "    <tr>\n",
       "      <th>0</th>\n",
       "      <td>a. m. Initial eyewitness accounts of such inci...</td>\n",
       "      <td>0</td>\n",
       "      <td>[(a., X), (m., NOUN), (Initial, ADJ), (eyewitn...</td>\n",
       "      <td>[(British, NORP), (Cox’s, PERSON)]</td>\n",
       "      <td>[(a., 10, dep), (m., 10, nsubj), (Initial, 5, ...</td>\n",
       "    </tr>\n",
       "    <tr>\n",
       "      <th>1</th>\n",
       "      <td>Shortly after the beginning of the attack, the...</td>\n",
       "      <td>1</td>\n",
       "      <td>[(Shortly, ADV), (after, ADP), (the, DET), (be...</td>\n",
       "      <td>[(Talibans, NORP), (Zabihullah Mujahid, PERSON)]</td>\n",
       "      <td>[(Shortly, 4, advmod), (after, 4, case), (the,...</td>\n",
       "    </tr>\n",
       "    <tr>\n",
       "      <th>2</th>\n",
       "      <td>Judge Pryor initially supported Judge Moore bu...</td>\n",
       "      <td>0</td>\n",
       "      <td>[(Judge, NOUN), (Pryor, PROPN), (initially, AD...</td>\n",
       "      <td>[(Pryor, PERSON), (Moore, PERSON)]</td>\n",
       "      <td>[(Judge, 4, nsubj), (Pryor, 1, flat), (initial...</td>\n",
       "    </tr>\n",
       "    <tr>\n",
       "      <th>3</th>\n",
       "      <td>Trump also expects to receive a major new fina...</td>\n",
       "      <td>3</td>\n",
       "      <td>[(Trump, PROPN), (also, ADV), (expects, VERB),...</td>\n",
       "      <td>[(Trump, PERSON), (the United States, GPE), (t...</td>\n",
       "      <td>[(Trump, 3, nsubj), (also, 3, advmod), (expect...</td>\n",
       "    </tr>\n",
       "    <tr>\n",
       "      <th>4</th>\n",
       "      <td>just decentralisation.Mr Purcell praised the C...</td>\n",
       "      <td>1</td>\n",
       "      <td>[(just, ADV), (decentralisation, NOUN), (., PU...</td>\n",
       "      <td>[(Purcell, PERSON), (Coalition, ORG)]</td>\n",
       "      <td>[(just, 2, advmod), (decentralisation, 0, root...</td>\n",
       "    </tr>\n",
       "  </tbody>\n",
       "</table>\n",
       "</div>"
      ],
      "text/plain": [
       "                                            Sentence  Label  \\\n",
       "0  a. m. Initial eyewitness accounts of such inci...      0   \n",
       "1  Shortly after the beginning of the attack, the...      1   \n",
       "2  Judge Pryor initially supported Judge Moore bu...      0   \n",
       "3  Trump also expects to receive a major new fina...      3   \n",
       "4  just decentralisation.Mr Purcell praised the C...      1   \n",
       "\n",
       "                                          tokens_pos  \\\n",
       "0  [(a., X), (m., NOUN), (Initial, ADJ), (eyewitn...   \n",
       "1  [(Shortly, ADV), (after, ADP), (the, DET), (be...   \n",
       "2  [(Judge, NOUN), (Pryor, PROPN), (initially, AD...   \n",
       "3  [(Trump, PROPN), (also, ADV), (expects, VERB),...   \n",
       "4  [(just, ADV), (decentralisation, NOUN), (., PU...   \n",
       "\n",
       "                                            entities  \\\n",
       "0                 [(British, NORP), (Cox’s, PERSON)]   \n",
       "1   [(Talibans, NORP), (Zabihullah Mujahid, PERSON)]   \n",
       "2                 [(Pryor, PERSON), (Moore, PERSON)]   \n",
       "3  [(Trump, PERSON), (the United States, GPE), (t...   \n",
       "4              [(Purcell, PERSON), (Coalition, ORG)]   \n",
       "\n",
       "                                        dependencies  \n",
       "0  [(a., 10, dep), (m., 10, nsubj), (Initial, 5, ...  \n",
       "1  [(Shortly, 4, advmod), (after, 4, case), (the,...  \n",
       "2  [(Judge, 4, nsubj), (Pryor, 1, flat), (initial...  \n",
       "3  [(Trump, 3, nsubj), (also, 3, advmod), (expect...  \n",
       "4  [(just, 2, advmod), (decentralisation, 0, root...  "
      ]
     },
     "execution_count": 9,
     "metadata": {},
     "output_type": "execute_result"
    }
   ],
   "source": [
    "df_train_shuffled.head()"
   ]
  },
  {
   "cell_type": "code",
   "execution_count": 10,
   "id": "ca38b83c-f07c-4973-ab0e-dd933c3a0678",
   "metadata": {},
   "outputs": [
    {
     "data": {
      "text/html": [
       "<div>\n",
       "<style scoped>\n",
       "    .dataframe tbody tr th:only-of-type {\n",
       "        vertical-align: middle;\n",
       "    }\n",
       "\n",
       "    .dataframe tbody tr th {\n",
       "        vertical-align: top;\n",
       "    }\n",
       "\n",
       "    .dataframe thead th {\n",
       "        text-align: right;\n",
       "    }\n",
       "</style>\n",
       "<table border=\"1\" class=\"dataframe\">\n",
       "  <thead>\n",
       "    <tr style=\"text-align: right;\">\n",
       "      <th></th>\n",
       "      <th>Sentence</th>\n",
       "      <th>Label</th>\n",
       "      <th>tokens_pos</th>\n",
       "      <th>entities</th>\n",
       "      <th>dependencies</th>\n",
       "    </tr>\n",
       "  </thead>\n",
       "  <tbody>\n",
       "    <tr>\n",
       "      <th>0</th>\n",
       "      <td>U. S. equities started mostly flat on Wednesda...</td>\n",
       "      <td>0</td>\n",
       "      <td>[(U., PROPN), (S., PROPN), (equities, NOUN), (...</td>\n",
       "      <td>[(U. S., ORG), (Wednesday, DATE), (Republican,...</td>\n",
       "      <td>[(U., 3, compound), (S., 3, compound), (equiti...</td>\n",
       "    </tr>\n",
       "    <tr>\n",
       "      <th>1</th>\n",
       "      <td>: Rubio supporters cheer Jeb!</td>\n",
       "      <td>0</td>\n",
       "      <td>[(:, PUNCT), (Rubio, PROPN), (supporters, NOUN...</td>\n",
       "      <td>[(Rubio, PERSON), (Jeb, PERSON)]</td>\n",
       "      <td>[(:, 4, punct), (Rubio, 3, compound), (support...</td>\n",
       "    </tr>\n",
       "    <tr>\n",
       "      <th>2</th>\n",
       "      <td>Qatars announcement of plans to boost LNG outp...</td>\n",
       "      <td>2</td>\n",
       "      <td>[(Qatars, PROPN), (announcement, NOUN), (of, A...</td>\n",
       "      <td>[(Qatars, ORG), (LNG, ORG), (Gulf, LOC), (Saud...</td>\n",
       "      <td>[(Qatars, 2, compound), (announcement, 10, nsu...</td>\n",
       "    </tr>\n",
       "    <tr>\n",
       "      <th>3</th>\n",
       "      <td>A man who said that he was the one later detai...</td>\n",
       "      <td>3</td>\n",
       "      <td>[(A, DET), (man, NOUN), (who, PRON), (said, VE...</td>\n",
       "      <td>[(Frank Flack, PERSON), (Edwards, PERSON)]</td>\n",
       "      <td>[(A, 2, det), (man, 19, nsubj), (who, 4, nsubj...</td>\n",
       "    </tr>\n",
       "    <tr>\n",
       "      <th>4</th>\n",
       "      <td>player.The entire game was intensely played, c...</td>\n",
       "      <td>0</td>\n",
       "      <td>[(player, NOUN), (., PUNCT), (The, DET), (enti...</td>\n",
       "      <td>[(Priory, ORG), (Buck Matthews, PERSON)]</td>\n",
       "      <td>[(player, 0, root), (., 1, punct), (The, 3, de...</td>\n",
       "    </tr>\n",
       "  </tbody>\n",
       "</table>\n",
       "</div>"
      ],
      "text/plain": [
       "                                            Sentence  Label  \\\n",
       "0  U. S. equities started mostly flat on Wednesda...      0   \n",
       "1                      : Rubio supporters cheer Jeb!      0   \n",
       "2  Qatars announcement of plans to boost LNG outp...      2   \n",
       "3  A man who said that he was the one later detai...      3   \n",
       "4  player.The entire game was intensely played, c...      0   \n",
       "\n",
       "                                          tokens_pos  \\\n",
       "0  [(U., PROPN), (S., PROPN), (equities, NOUN), (...   \n",
       "1  [(:, PUNCT), (Rubio, PROPN), (supporters, NOUN...   \n",
       "2  [(Qatars, PROPN), (announcement, NOUN), (of, A...   \n",
       "3  [(A, DET), (man, NOUN), (who, PRON), (said, VE...   \n",
       "4  [(player, NOUN), (., PUNCT), (The, DET), (enti...   \n",
       "\n",
       "                                            entities  \\\n",
       "0  [(U. S., ORG), (Wednesday, DATE), (Republican,...   \n",
       "1                   [(Rubio, PERSON), (Jeb, PERSON)]   \n",
       "2  [(Qatars, ORG), (LNG, ORG), (Gulf, LOC), (Saud...   \n",
       "3         [(Frank Flack, PERSON), (Edwards, PERSON)]   \n",
       "4           [(Priory, ORG), (Buck Matthews, PERSON)]   \n",
       "\n",
       "                                        dependencies  \n",
       "0  [(U., 3, compound), (S., 3, compound), (equiti...  \n",
       "1  [(:, 4, punct), (Rubio, 3, compound), (support...  \n",
       "2  [(Qatars, 2, compound), (announcement, 10, nsu...  \n",
       "3  [(A, 2, det), (man, 19, nsubj), (who, 4, nsubj...  \n",
       "4  [(player, 0, root), (., 1, punct), (The, 3, de...  "
      ]
     },
     "execution_count": 10,
     "metadata": {},
     "output_type": "execute_result"
    }
   ],
   "source": [
    "df_valid_shuffled.head()"
   ]
  },
  {
   "cell_type": "code",
   "execution_count": 11,
   "id": "68bda171-9b82-4f3c-babf-10fd2460f6e4",
   "metadata": {},
   "outputs": [
    {
     "data": {
      "text/html": [
       "<div>\n",
       "<style scoped>\n",
       "    .dataframe tbody tr th:only-of-type {\n",
       "        vertical-align: middle;\n",
       "    }\n",
       "\n",
       "    .dataframe tbody tr th {\n",
       "        vertical-align: top;\n",
       "    }\n",
       "\n",
       "    .dataframe thead th {\n",
       "        text-align: right;\n",
       "    }\n",
       "</style>\n",
       "<table border=\"1\" class=\"dataframe\">\n",
       "  <thead>\n",
       "    <tr style=\"text-align: right;\">\n",
       "      <th></th>\n",
       "      <th>Sentence</th>\n",
       "      <th>Label</th>\n",
       "      <th>tokens_pos</th>\n",
       "      <th>entities</th>\n",
       "      <th>dependencies</th>\n",
       "    </tr>\n",
       "  </thead>\n",
       "  <tbody>\n",
       "    <tr>\n",
       "      <th>0</th>\n",
       "      <td>In November 2015 Donald Trump proclaimed to a ...</td>\n",
       "      <td>0</td>\n",
       "      <td>[(In, ADP), (November, PROPN), (2015, NUM), (D...</td>\n",
       "      <td>[(November 2015, DATE), (Donald Trump, PERSON)...</td>\n",
       "      <td>[(In, 3, case), (November, 6, obl), (2015, 2, ...</td>\n",
       "    </tr>\n",
       "    <tr>\n",
       "      <th>1</th>\n",
       "      <td>Berlusconi's allies accused the Milan magistra...</td>\n",
       "      <td>3</td>\n",
       "      <td>[(Berlusconi, PROPN), ('s, PART), (allies, NOU...</td>\n",
       "      <td>[(Berlusconi's, NORP), (Milan, GPE)]</td>\n",
       "      <td>[(Berlusconi, 3, nmod:poss), ('s, 1, case), (a...</td>\n",
       "    </tr>\n",
       "    <tr>\n",
       "      <th>2</th>\n",
       "      <td>But when Laila called, she was told that Arlin...</td>\n",
       "      <td>0</td>\n",
       "      <td>[(But, CCONJ), (when, ADV), (Laila, PROPN), (c...</td>\n",
       "      <td>[(Laila, PERSON), (Arlington, GPE)]</td>\n",
       "      <td>[(But, 8, cc), (when, 4, advmod), (Laila, 4, n...</td>\n",
       "    </tr>\n",
       "    <tr>\n",
       "      <th>3</th>\n",
       "      <td>Results for the 801 likely Democratic primary ...</td>\n",
       "      <td>0</td>\n",
       "      <td>[(Results, NOUN), (for, ADP), (the, DET), (801...</td>\n",
       "      <td>[(801, CARDINAL), (Democratic, NORP), (plus or...</td>\n",
       "      <td>[(Results, 9, nsubj), (for, 8, case), (the, 8,...</td>\n",
       "    </tr>\n",
       "    <tr>\n",
       "      <th>4</th>\n",
       "      <td>The continuing acceleration of the number of S...</td>\n",
       "      <td>0</td>\n",
       "      <td>[(The, DET), (continuing, VERB), (acceleration...</td>\n",
       "      <td>[(Syrian, NORP), (Obama, PERSON)]</td>\n",
       "      <td>[(The, 3, det), (continuing, 3, amod), (accele...</td>\n",
       "    </tr>\n",
       "  </tbody>\n",
       "</table>\n",
       "</div>"
      ],
      "text/plain": [
       "                                            Sentence  Label  \\\n",
       "0  In November 2015 Donald Trump proclaimed to a ...      0   \n",
       "1  Berlusconi's allies accused the Milan magistra...      3   \n",
       "2  But when Laila called, she was told that Arlin...      0   \n",
       "3  Results for the 801 likely Democratic primary ...      0   \n",
       "4  The continuing acceleration of the number of S...      0   \n",
       "\n",
       "                                          tokens_pos  \\\n",
       "0  [(In, ADP), (November, PROPN), (2015, NUM), (D...   \n",
       "1  [(Berlusconi, PROPN), ('s, PART), (allies, NOU...   \n",
       "2  [(But, CCONJ), (when, ADV), (Laila, PROPN), (c...   \n",
       "3  [(Results, NOUN), (for, ADP), (the, DET), (801...   \n",
       "4  [(The, DET), (continuing, VERB), (acceleration...   \n",
       "\n",
       "                                            entities  \\\n",
       "0  [(November 2015, DATE), (Donald Trump, PERSON)...   \n",
       "1               [(Berlusconi's, NORP), (Milan, GPE)]   \n",
       "2                [(Laila, PERSON), (Arlington, GPE)]   \n",
       "3  [(801, CARDINAL), (Democratic, NORP), (plus or...   \n",
       "4                  [(Syrian, NORP), (Obama, PERSON)]   \n",
       "\n",
       "                                        dependencies  \n",
       "0  [(In, 3, case), (November, 6, obl), (2015, 2, ...  \n",
       "1  [(Berlusconi, 3, nmod:poss), ('s, 1, case), (a...  \n",
       "2  [(But, 8, cc), (when, 4, advmod), (Laila, 4, n...  \n",
       "3  [(Results, 9, nsubj), (for, 8, case), (the, 8,...  \n",
       "4  [(The, 3, det), (continuing, 3, amod), (accele...  "
      ]
     },
     "execution_count": 11,
     "metadata": {},
     "output_type": "execute_result"
    }
   ],
   "source": [
    "df_test_shuffled.head()"
   ]
  },
  {
   "cell_type": "markdown",
   "id": "ecfa5551-aa47-4147-b9e0-2a016bc429e4",
   "metadata": {},
   "source": [
    "## Save the data in the file"
   ]
  },
  {
   "cell_type": "code",
   "execution_count": 13,
   "id": "4771fda6-8ca5-4d36-8c16-3f5ca6ec0436",
   "metadata": {},
   "outputs": [],
   "source": [
    "# Saving df_train_shuffled to a text file with tab separators\n",
    "df_train_shuffled.to_csv('datasets_preprocessed/df_train_shuffled.txt', sep='\\t', index=False, header=True)\n",
    "\n",
    "# Saving df_valid_shuffled to a text file with tab separators\n",
    "df_valid_shuffled.to_csv('datasets_preprocessed/df_valid_shuffled.txt', sep='\\t', index=False, header=True)\n",
    "\n",
    "# Saving df_valid_shuffled to a text file with tab separators\n",
    "df_test_shuffled.to_csv('datasets_preprocessed/df_test_shuffled.txt', sep='\\t', index=False, header=True)"
   ]
  },
  {
   "cell_type": "code",
   "execution_count": null,
   "id": "75ce0ca3-6e5b-44c5-8cd4-1320eabd6718",
   "metadata": {},
   "outputs": [],
   "source": []
  }
 ],
 "metadata": {
  "colab": {
   "collapsed_sections": [
    "6aa51dcb-9bd7-4adc-af2d-90655ed7b59d",
    "5b4b9a5d-f5f1-4b41-89b1-ef0f7ec9269b",
    "XgpcdWkBTA2i"
   ],
   "provenance": []
  },
  "kernelspec": {
   "display_name": "Python 3 (ipykernel)",
   "language": "python",
   "name": "python3"
  },
  "language_info": {
   "codemirror_mode": {
    "name": "ipython",
    "version": 3
   },
   "file_extension": ".py",
   "mimetype": "text/x-python",
   "name": "python",
   "nbconvert_exporter": "python",
   "pygments_lexer": "ipython3",
   "version": "3.9.19"
  },
  "widgets": {
   "application/vnd.jupyter.widget-state+json": {
    "0489b43fc7e64734882843d7d1dbccce": {
     "model_module": "@jupyter-widgets/base",
     "model_module_version": "1.2.0",
     "model_name": "LayoutModel",
     "state": {
      "_model_module": "@jupyter-widgets/base",
      "_model_module_version": "1.2.0",
      "_model_name": "LayoutModel",
      "_view_count": null,
      "_view_module": "@jupyter-widgets/base",
      "_view_module_version": "1.2.0",
      "_view_name": "LayoutView",
      "align_content": null,
      "align_items": null,
      "align_self": null,
      "border": null,
      "bottom": null,
      "display": null,
      "flex": null,
      "flex_flow": null,
      "grid_area": null,
      "grid_auto_columns": null,
      "grid_auto_flow": null,
      "grid_auto_rows": null,
      "grid_column": null,
      "grid_gap": null,
      "grid_row": null,
      "grid_template_areas": null,
      "grid_template_columns": null,
      "grid_template_rows": null,
      "height": null,
      "justify_content": null,
      "justify_items": null,
      "left": null,
      "margin": null,
      "max_height": null,
      "max_width": null,
      "min_height": null,
      "min_width": null,
      "object_fit": null,
      "object_position": null,
      "order": null,
      "overflow": null,
      "overflow_x": null,
      "overflow_y": null,
      "padding": null,
      "right": null,
      "top": null,
      "visibility": null,
      "width": null
     }
    },
    "04d91f88d2bd41c2911b27882b1bc3c4": {
     "model_module": "@jupyter-widgets/controls",
     "model_module_version": "1.5.0",
     "model_name": "DescriptionStyleModel",
     "state": {
      "_model_module": "@jupyter-widgets/controls",
      "_model_module_version": "1.5.0",
      "_model_name": "DescriptionStyleModel",
      "_view_count": null,
      "_view_module": "@jupyter-widgets/base",
      "_view_module_version": "1.2.0",
      "_view_name": "StyleView",
      "description_width": ""
     }
    },
    "0fb17667761c4591ab2da8e3f71fa0bd": {
     "model_module": "@jupyter-widgets/controls",
     "model_module_version": "1.5.0",
     "model_name": "ProgressStyleModel",
     "state": {
      "_model_module": "@jupyter-widgets/controls",
      "_model_module_version": "1.5.0",
      "_model_name": "ProgressStyleModel",
      "_view_count": null,
      "_view_module": "@jupyter-widgets/base",
      "_view_module_version": "1.2.0",
      "_view_name": "StyleView",
      "bar_color": null,
      "description_width": ""
     }
    },
    "3c9aa0c7fa734470bfc3feed6592d3bc": {
     "model_module": "@jupyter-widgets/base",
     "model_module_version": "1.2.0",
     "model_name": "LayoutModel",
     "state": {
      "_model_module": "@jupyter-widgets/base",
      "_model_module_version": "1.2.0",
      "_model_name": "LayoutModel",
      "_view_count": null,
      "_view_module": "@jupyter-widgets/base",
      "_view_module_version": "1.2.0",
      "_view_name": "LayoutView",
      "align_content": null,
      "align_items": null,
      "align_self": null,
      "border": null,
      "bottom": null,
      "display": null,
      "flex": null,
      "flex_flow": null,
      "grid_area": null,
      "grid_auto_columns": null,
      "grid_auto_flow": null,
      "grid_auto_rows": null,
      "grid_column": null,
      "grid_gap": null,
      "grid_row": null,
      "grid_template_areas": null,
      "grid_template_columns": null,
      "grid_template_rows": null,
      "height": null,
      "justify_content": null,
      "justify_items": null,
      "left": null,
      "margin": null,
      "max_height": null,
      "max_width": null,
      "min_height": null,
      "min_width": null,
      "object_fit": null,
      "object_position": null,
      "order": null,
      "overflow": null,
      "overflow_x": null,
      "overflow_y": null,
      "padding": null,
      "right": null,
      "top": null,
      "visibility": null,
      "width": null
     }
    },
    "6835ae446b484d3ca602ec2f617aaff4": {
     "model_module": "@jupyter-widgets/controls",
     "model_module_version": "1.5.0",
     "model_name": "HTMLModel",
     "state": {
      "_dom_classes": [],
      "_model_module": "@jupyter-widgets/controls",
      "_model_module_version": "1.5.0",
      "_model_name": "HTMLModel",
      "_view_count": null,
      "_view_module": "@jupyter-widgets/controls",
      "_view_module_version": "1.5.0",
      "_view_name": "HTMLView",
      "description": "",
      "description_tooltip": null,
      "layout": "IPY_MODEL_a0dc4784cf42446fb83ce5e6f1162d21",
      "placeholder": "​",
      "style": "IPY_MODEL_04d91f88d2bd41c2911b27882b1bc3c4",
      "value": " 386k/? [00:00&lt;00:00, 11.6MB/s]"
     }
    },
    "9ddd39e4df4f422d894bd00d63808d90": {
     "model_module": "@jupyter-widgets/controls",
     "model_module_version": "1.5.0",
     "model_name": "HTMLModel",
     "state": {
      "_dom_classes": [],
      "_model_module": "@jupyter-widgets/controls",
      "_model_module_version": "1.5.0",
      "_model_name": "HTMLModel",
      "_view_count": null,
      "_view_module": "@jupyter-widgets/controls",
      "_view_module_version": "1.5.0",
      "_view_name": "HTMLView",
      "description": "",
      "description_tooltip": null,
      "layout": "IPY_MODEL_3c9aa0c7fa734470bfc3feed6592d3bc",
      "placeholder": "​",
      "style": "IPY_MODEL_d29596beefdc42bea19fafd84f93dadb",
      "value": "Downloading https://raw.githubusercontent.com/stanfordnlp/stanza-resources/main/resources_1.8.0.json: "
     }
    },
    "a0dc4784cf42446fb83ce5e6f1162d21": {
     "model_module": "@jupyter-widgets/base",
     "model_module_version": "1.2.0",
     "model_name": "LayoutModel",
     "state": {
      "_model_module": "@jupyter-widgets/base",
      "_model_module_version": "1.2.0",
      "_model_name": "LayoutModel",
      "_view_count": null,
      "_view_module": "@jupyter-widgets/base",
      "_view_module_version": "1.2.0",
      "_view_name": "LayoutView",
      "align_content": null,
      "align_items": null,
      "align_self": null,
      "border": null,
      "bottom": null,
      "display": null,
      "flex": null,
      "flex_flow": null,
      "grid_area": null,
      "grid_auto_columns": null,
      "grid_auto_flow": null,
      "grid_auto_rows": null,
      "grid_column": null,
      "grid_gap": null,
      "grid_row": null,
      "grid_template_areas": null,
      "grid_template_columns": null,
      "grid_template_rows": null,
      "height": null,
      "justify_content": null,
      "justify_items": null,
      "left": null,
      "margin": null,
      "max_height": null,
      "max_width": null,
      "min_height": null,
      "min_width": null,
      "object_fit": null,
      "object_position": null,
      "order": null,
      "overflow": null,
      "overflow_x": null,
      "overflow_y": null,
      "padding": null,
      "right": null,
      "top": null,
      "visibility": null,
      "width": null
     }
    },
    "ae273c49ff2a4099804ec2402c4e2d9a": {
     "model_module": "@jupyter-widgets/base",
     "model_module_version": "1.2.0",
     "model_name": "LayoutModel",
     "state": {
      "_model_module": "@jupyter-widgets/base",
      "_model_module_version": "1.2.0",
      "_model_name": "LayoutModel",
      "_view_count": null,
      "_view_module": "@jupyter-widgets/base",
      "_view_module_version": "1.2.0",
      "_view_name": "LayoutView",
      "align_content": null,
      "align_items": null,
      "align_self": null,
      "border": null,
      "bottom": null,
      "display": null,
      "flex": null,
      "flex_flow": null,
      "grid_area": null,
      "grid_auto_columns": null,
      "grid_auto_flow": null,
      "grid_auto_rows": null,
      "grid_column": null,
      "grid_gap": null,
      "grid_row": null,
      "grid_template_areas": null,
      "grid_template_columns": null,
      "grid_template_rows": null,
      "height": null,
      "justify_content": null,
      "justify_items": null,
      "left": null,
      "margin": null,
      "max_height": null,
      "max_width": null,
      "min_height": null,
      "min_width": null,
      "object_fit": null,
      "object_position": null,
      "order": null,
      "overflow": null,
      "overflow_x": null,
      "overflow_y": null,
      "padding": null,
      "right": null,
      "top": null,
      "visibility": null,
      "width": null
     }
    },
    "aee8df7ec2544bd89bdfbdb36a75191f": {
     "model_module": "@jupyter-widgets/controls",
     "model_module_version": "1.5.0",
     "model_name": "HBoxModel",
     "state": {
      "_dom_classes": [],
      "_model_module": "@jupyter-widgets/controls",
      "_model_module_version": "1.5.0",
      "_model_name": "HBoxModel",
      "_view_count": null,
      "_view_module": "@jupyter-widgets/controls",
      "_view_module_version": "1.5.0",
      "_view_name": "HBoxView",
      "box_style": "",
      "children": [
       "IPY_MODEL_9ddd39e4df4f422d894bd00d63808d90",
       "IPY_MODEL_b74d16cecf6e4c81b3ffd3df6be7845b",
       "IPY_MODEL_6835ae446b484d3ca602ec2f617aaff4"
      ],
      "layout": "IPY_MODEL_ae273c49ff2a4099804ec2402c4e2d9a"
     }
    },
    "b74d16cecf6e4c81b3ffd3df6be7845b": {
     "model_module": "@jupyter-widgets/controls",
     "model_module_version": "1.5.0",
     "model_name": "FloatProgressModel",
     "state": {
      "_dom_classes": [],
      "_model_module": "@jupyter-widgets/controls",
      "_model_module_version": "1.5.0",
      "_model_name": "FloatProgressModel",
      "_view_count": null,
      "_view_module": "@jupyter-widgets/controls",
      "_view_module_version": "1.5.0",
      "_view_name": "ProgressView",
      "bar_style": "success",
      "description": "",
      "description_tooltip": null,
      "layout": "IPY_MODEL_0489b43fc7e64734882843d7d1dbccce",
      "max": 47900,
      "min": 0,
      "orientation": "horizontal",
      "style": "IPY_MODEL_0fb17667761c4591ab2da8e3f71fa0bd",
      "value": 47900
     }
    },
    "d29596beefdc42bea19fafd84f93dadb": {
     "model_module": "@jupyter-widgets/controls",
     "model_module_version": "1.5.0",
     "model_name": "DescriptionStyleModel",
     "state": {
      "_model_module": "@jupyter-widgets/controls",
      "_model_module_version": "1.5.0",
      "_model_name": "DescriptionStyleModel",
      "_view_count": null,
      "_view_module": "@jupyter-widgets/base",
      "_view_module_version": "1.2.0",
      "_view_name": "StyleView",
      "description_width": ""
     }
    }
   }
  }
 },
 "nbformat": 4,
 "nbformat_minor": 5
}
